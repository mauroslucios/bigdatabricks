{
 "cells": [
  {
   "cell_type": "code",
   "execution_count": 15,
   "id": "25dc392c-4832-432c-a392-ed01c74c4bdc",
   "metadata": {},
   "outputs": [],
   "source": [
    "import pandas as pd"
   ]
  },
  {
   "cell_type": "code",
   "execution_count": 10,
   "id": "a22d7d2a-ae23-4b57-bd5d-9a1d4bafd02e",
   "metadata": {},
   "outputs": [],
   "source": [
    "ruateresa = pd.read_excel(\"todas_lojas_ruateresa.xlsx\",None)"
   ]
  },
  {
   "cell_type": "code",
   "execution_count": 11,
   "id": "589a1c63-1f6d-4c15-ad55-f8e1ec6846c4",
   "metadata": {
    "scrolled": true
   },
   "outputs": [
    {
     "data": {
      "text/plain": [
       "{'todas_lojas_ruateresa':         id                        nome                         end        cep  \\\n",
       " 0        1                A.M.A.Malhas         R.Teresa, 1021/1023  25625-021   \n",
       " 1        2                    Abelinha       R.Teresa, 533 loja 03  25625-021   \n",
       " 2        3                       Aborg        R.Teresa, 181 loja 3  25625-020   \n",
       " 3        4  AcessÃ³rio Bolsas e Cintos        R.Teresa, 537 box 04  25625-021   \n",
       " 4        5                    Ackuamar       R.Teresa, 369 loja 02  25625-020   \n",
       " ...    ...                         ...                         ...        ...   \n",
       " 1085  1086             12 PÃ©s surfing      R. Teresa, 231 Loja 09  25625-020   \n",
       " 1086  1087         3 W Distrib. Malhas             R. Teresa, 1346  25625-010   \n",
       " 1087  1088                    55 Jeans  R. Aureliano Coutinho, 119  25625-000   \n",
       " 1088  1089                    55 Jeans              R. Teresa, 446  25625-011   \n",
       " 1089  1090                      7 Life      R. Teresa, 142 Loja 05  25625-011   \n",
       " \n",
       "           cidade  uf        tel  \n",
       " 0     Petropolis  RJ  2243-8060  \n",
       " 1     Petropolis  RJ  2231-0085  \n",
       " 2     Petropolis  RJ  2243-8424  \n",
       " 3     Petropolis  RJ  2231-2799  \n",
       " 4     Petropolis  RJ  2247-6854  \n",
       " ...          ...  ..        ...  \n",
       " 1085  Petropolis  RJ        NaN  \n",
       " 1086  Petropolis  RJ  2242-8705  \n",
       " 1087  Petropolis  RJ  2235-6993  \n",
       " 1088  Petropolis  RJ  2243-1528  \n",
       " 1089  Petropolis  RJ  2231-2910  \n",
       " \n",
       " [1090 rows x 7 columns]}"
      ]
     },
     "execution_count": 11,
     "metadata": {},
     "output_type": "execute_result"
    }
   ],
   "source": [
    "ruateresa"
   ]
  },
  {
   "cell_type": "code",
   "execution_count": 16,
   "id": "6cd3fb34-6e6f-4f5a-b8ef-aa84e5675348",
   "metadata": {},
   "outputs": [
    {
     "data": {
      "text/plain": [
       "dict_keys(['todas_lojas_ruateresa'])"
      ]
     },
     "execution_count": 16,
     "metadata": {},
     "output_type": "execute_result"
    }
   ],
   "source": [
    "ruateresa.keys()"
   ]
  },
  {
   "cell_type": "code",
   "execution_count": 14,
   "id": "795d9401-19ad-4b09-98f3-fb6e0096f338",
   "metadata": {},
   "outputs": [
    {
     "data": {
      "text/plain": [
       "0       25625-021\n",
       "1       25625-021\n",
       "2       25625-020\n",
       "3       25625-021\n",
       "4       25625-020\n",
       "          ...    \n",
       "1085    25625-020\n",
       "1086    25625-010\n",
       "1087    25625-000\n",
       "1088    25625-011\n",
       "1089    25625-011\n",
       "Name: cep, Length: 1090, dtype: object"
      ]
     },
     "execution_count": 14,
     "metadata": {},
     "output_type": "execute_result"
    }
   ],
   "source": [
    "ruateresa[\"todas_lojas_ruateresa\"][\"cep\"]"
   ]
  },
  {
   "cell_type": "code",
   "execution_count": null,
   "id": "31b98caa-db5d-4421-b7d4-4633a58b1030",
   "metadata": {},
   "outputs": [],
   "source": []
  }
 ],
 "metadata": {
  "kernelspec": {
   "display_name": "Python 3 (ipykernel)",
   "language": "python",
   "name": "python3"
  },
  "language_info": {
   "codemirror_mode": {
    "name": "ipython",
    "version": 3
   },
   "file_extension": ".py",
   "mimetype": "text/x-python",
   "name": "python",
   "nbconvert_exporter": "python",
   "pygments_lexer": "ipython3",
   "version": "3.11.6"
  }
 },
 "nbformat": 4,
 "nbformat_minor": 5
}
