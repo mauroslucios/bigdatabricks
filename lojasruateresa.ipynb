{
 "cells": [
  {
   "cell_type": "markdown",
   "id": "7c82d12d-992d-4865-ac58-0bcf99549334",
   "metadata": {},
   "source": [
    "# Installing the classic Jupyter Notebook interface\n",
    "Prerequisite:Python\n",
    "\n",
    "Python is a requirement for installing the Jupyter Notebook. Verify if your python installation is compatible with Jupyter Notebook\n",
    "We recommend use the Anaconda distribution to install Python and Jupyter. We'll go through its installation in the next section."
   ]
  },
  {
   "cell_type": "markdown",
   "id": "e45f45c3-239d-4633-8a8f-d0266f52f66a",
   "metadata": {},
   "source": [
    "# Installing Jupyter using Anacaonda and conda\n",
    "- For new user, we highly recommend <a href=\"https://www.anaconda.com/download\">installing Anaconda</a>. Anaconda conveniently installs Python, the Jupyter Notebook, and other commonly used packages for scientifica computing anda data science.\n"
   ]
  },
  {
   "cell_type": "markdown",
   "id": "04398072-b463-4928-8fe0-f77d70a72600",
   "metadata": {},
   "source": [
    "Use the following installation steps:\n",
    "+ Download  <a href=\"https://www.anaconda.com/download\">installing Anaconda</a>. We recommend downloading Anaconda's latest Python 3 version(currently Python 3.9).\n",
    "+ Instll thee version of Anaconda which you downloaded, following the instructions on the download page.\n",
    "+ Congratulations, you have installed Jupyter Notebook. To run the notebbok:\n",
    "  "
   ]
  },
  {
   "cell_type": "markdown",
   "id": "8966ef63-8a23-4750-9c29-c01526f5a43b",
   "metadata": {},
   "source": [
    "<strong>jupyter notebbok</strong>"
   ]
  },
  {
   "cell_type": "markdown",
   "id": "2603f82a-a0a4-485e-9378-f51215e01e07",
   "metadata": {},
   "source": [
    "See <a href=\"https://docs.jupyter.org/pt-br/latest/running.html#running\">Running the Notebook</a> for more details."
   ]
  },
  {
   "cell_type": "markdown",
   "id": "91e7c225-a180-40ae-95ca-5028825489c4",
   "metadata": {},
   "source": [
    "# Alternative for experienced Python users: Installing Jupyter with pip"
   ]
  },
  {
   "cell_type": "markdown",
   "id": "f86d3397-555e-42dd-bd90-f801a1e50e77",
   "metadata": {},
   "source": [
    "<h1 style=\"color:red\">Importante</h1>\n",
    "Jupyter installation requires Python 3.3 or greater, or Python 2.7.IPython 1.x, which included ther parts that later became Jupyter, was the last version to support Python 3.2 and 2.6."
   ]
  },
  {
   "cell_type": "markdown",
   "id": "4558c70e-ebbc-4860-8f92-725934840360",
   "metadata": {},
   "source": [
    "As an existing Python user, you may wish to install Python using Python's package manager, pip, instead of Anaconda. First, ensure that you have the latest pip, older versions may have trouble with some dependencies."
   ]
  },
  {
   "cell_type": "markdown",
   "id": "b189ec8c-b996-4b0d-9352-8f32c860f342",
   "metadata": {},
   "source": [
    "<strong>pip install --upgrade pip</strong>"
   ]
  },
  {
   "cell_type": "markdown",
   "id": "0a4d9095-053e-4343-8c61-c138d61093ec",
   "metadata": {},
   "source": [
    "Them install the Jupyter Notebook using:"
   ]
  },
  {
   "cell_type": "markdown",
   "id": "cf02f668-af6f-4dac-9dba-5e58a3c698e4",
   "metadata": {},
   "source": [
    "pip3 install jupyter"
   ]
  },
  {
   "cell_type": "markdown",
   "id": "71be1704-05da-40b3-81d4-d6573271bb1d",
   "metadata": {},
   "source": [
    "(Use pip if using legacy Python 2.)"
   ]
  },
  {
   "cell_type": "markdown",
   "id": "b656b1cb-cd3c-4978-a1e7-2635e43ebf1a",
   "metadata": {},
   "source": [
    "Congratulations. You have installed Jupyter Notebook. See Running the Notebook for more details."
   ]
  },
  {
   "cell_type": "code",
   "execution_count": 4,
   "id": "25dc392c-4832-432c-a392-ed01c74c4bdc",
   "metadata": {},
   "outputs": [],
   "source": [
    "import pandas as pd"
   ]
  },
  {
   "cell_type": "code",
   "execution_count": 5,
   "id": "a22d7d2a-ae23-4b57-bd5d-9a1d4bafd02e",
   "metadata": {},
   "outputs": [],
   "source": [
    "ruateresa = pd.read_excel(\"todas_lojas_ruateresa.xlsx\",None)"
   ]
  },
  {
   "cell_type": "code",
   "execution_count": 6,
   "id": "589a1c63-1f6d-4c15-ad55-f8e1ec6846c4",
   "metadata": {},
   "outputs": [
    {
     "data": {
      "text/plain": [
       "{'todas_lojas_ruateresa':         id                        nome                         end        cep  \\\n",
       " 0        1                A.M.A.Malhas         R.Teresa, 1021/1023  25625-021   \n",
       " 1        2                    Abelinha       R.Teresa, 533 loja 03  25625-021   \n",
       " 2        3                       Aborg        R.Teresa, 181 loja 3  25625-020   \n",
       " 3        4  AcessÃ³rio Bolsas e Cintos        R.Teresa, 537 box 04  25625-021   \n",
       " 4        5                    Ackuamar       R.Teresa, 369 loja 02  25625-020   \n",
       " ...    ...                         ...                         ...        ...   \n",
       " 1085  1086             12 PÃ©s surfing      R. Teresa, 231 Loja 09  25625-020   \n",
       " 1086  1087         3 W Distrib. Malhas             R. Teresa, 1346  25625-010   \n",
       " 1087  1088                    55 Jeans  R. Aureliano Coutinho, 119  25625-000   \n",
       " 1088  1089                    55 Jeans              R. Teresa, 446  25625-011   \n",
       " 1089  1090                      7 Life      R. Teresa, 142 Loja 05  25625-011   \n",
       " \n",
       "           cidade  uf        tel  \n",
       " 0     Petropolis  RJ  2243-8060  \n",
       " 1     Petropolis  RJ  2231-0085  \n",
       " 2     Petropolis  RJ  2243-8424  \n",
       " 3     Petropolis  RJ  2231-2799  \n",
       " 4     Petropolis  RJ  2247-6854  \n",
       " ...          ...  ..        ...  \n",
       " 1085  Petropolis  RJ        NaN  \n",
       " 1086  Petropolis  RJ  2242-8705  \n",
       " 1087  Petropolis  RJ  2235-6993  \n",
       " 1088  Petropolis  RJ  2243-1528  \n",
       " 1089  Petropolis  RJ  2231-2910  \n",
       " \n",
       " [1090 rows x 7 columns]}"
      ]
     },
     "execution_count": 6,
     "metadata": {},
     "output_type": "execute_result"
    }
   ],
   "source": [
    "ruateresa"
   ]
  },
  {
   "cell_type": "code",
   "execution_count": 7,
   "id": "6cd3fb34-6e6f-4f5a-b8ef-aa84e5675348",
   "metadata": {},
   "outputs": [
    {
     "data": {
      "text/plain": [
       "dict_keys(['todas_lojas_ruateresa'])"
      ]
     },
     "execution_count": 7,
     "metadata": {},
     "output_type": "execute_result"
    }
   ],
   "source": [
    "ruateresa.keys()"
   ]
  },
  {
   "cell_type": "code",
   "execution_count": 8,
   "id": "795d9401-19ad-4b09-98f3-fb6e0096f338",
   "metadata": {},
   "outputs": [
    {
     "data": {
      "text/plain": [
       "0       25625-021\n",
       "1       25625-021\n",
       "2       25625-020\n",
       "3       25625-021\n",
       "4       25625-020\n",
       "          ...    \n",
       "1085    25625-020\n",
       "1086    25625-010\n",
       "1087    25625-000\n",
       "1088    25625-011\n",
       "1089    25625-011\n",
       "Name: cep, Length: 1090, dtype: object"
      ]
     },
     "execution_count": 8,
     "metadata": {},
     "output_type": "execute_result"
    }
   ],
   "source": [
    "ruateresa[\"todas_lojas_ruateresa\"][\"cep\"]"
   ]
  },
  {
   "cell_type": "code",
   "execution_count": null,
   "id": "31b98caa-db5d-4421-b7d4-4633a58b1030",
   "metadata": {},
   "outputs": [],
   "source": []
  }
 ],
 "metadata": {
  "kernelspec": {
   "display_name": "Python 3 (ipykernel)",
   "language": "python",
   "name": "python3"
  },
  "language_info": {
   "codemirror_mode": {
    "name": "ipython",
    "version": 3
   },
   "file_extension": ".py",
   "mimetype": "text/x-python",
   "name": "python",
   "nbconvert_exporter": "python",
   "pygments_lexer": "ipython3",
   "version": "3.11.6"
  }
 },
 "nbformat": 4,
 "nbformat_minor": 5
}
